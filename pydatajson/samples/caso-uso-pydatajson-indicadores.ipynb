{
 "cells": [
  {
   "cell_type": "markdown",
   "metadata": {
    "collapsed": true
   },
   "source": [
    "# Caso de uso - Generación de indicadores\n",
    "\n",
    "En esta prueba se demuestra el uso del método de generación de indicadores de la librería, junto con el retorno esperado.\n",
    "La función utilizada es única, `generate_catalogs_indicators`."
   ]
  },
  {
   "cell_type": "markdown",
   "metadata": {},
   "source": [
    "### Ejemplo básico\n",
    "\n",
    "Calculamos indicadores sobre un único catálogo. El método espera un objeto `str` (o `unicode`), con una ruta o URL a el `data.json` del catálogo."
   ]
  },
  {
   "cell_type": "code",
   "execution_count": 13,
   "metadata": {},
   "outputs": [
    {
     "data": {
      "text/plain": [
       "([{u'campos_optativos_pct': 12.54,\n   u'campos_recomendados_pct': 62.96,\n   u'catalogo_ultima_actualizacion_dias': 155.0,\n   u'datasets_actualizados_cant': 4,\n   u'datasets_actualizados_pct': 22.0,\n   u'datasets_cant': 18,\n   u'datasets_desactualizados_cant': 14,\n   u'datasets_frecuencia_cant': {u'R/P0.5M': 2,\n    u'R/P1D': 1,\n    u'R/P1M': 9,\n    u'R/P1Y': 1,\n    u'R/P3M': 2,\n    u'eventual': 3},\n   u'datasets_meta_error_cant': 0,\n   u'datasets_meta_ok_cant': 18,\n   u'datasets_meta_ok_pct': 100.0,\n   u'distribuciones_cant': 71,\n   u'distribuciones_formatos_cant': {u'CSV': 70, u'RDF': 1}}],\n {u'campos_optativos_pct': 12.54,\n  u'campos_recomendados_pct': 62.96,\n  u'catalogo_ultima_actualizacion_dias': 155.0,\n  u'catalogos_cant': 1,\n  u'datasets_actualizados_cant': 4,\n  u'datasets_actualizados_pct': 22.22,\n  u'datasets_cant': 18,\n  u'datasets_desactualizados_cant': 14,\n  u'datasets_frecuencia_cant': {u'R/P0.5M': 2,\n   u'R/P1D': 1,\n   u'R/P1M': 9,\n   u'R/P1Y': 1,\n   u'R/P3M': 2,\n   u'eventual': 3},\n  u'datasets_meta_error_cant': 0,\n  u'datasets_meta_ok_cant': 18,\n  u'datasets_meta_ok_pct': 100.0,\n  u'distribuciones_cant': 71,\n  u'distribuciones_formatos_cant': {u'CSV': 70, u'RDF': 1}})"
      ]
     },
     "execution_count": 13,
     "metadata": {},
     "output_type": "execute_result"
    }
   ],
   "source": [
    "import os\n",
    "from pydatajson import DataJson\n",
    "\n",
    "dj = DataJson()\n",
    "catalog = os.path.join(\"samples\", \"catalogo-justicia.json\")\n",
    "dj.generate_catalogs_indicators(catalog)"
   ]
  },
  {
   "cell_type": "markdown",
   "metadata": {},
   "source": [
    " El método devuelve un objeto _tuple_ con dos valores, el primero los indicadores del catálogo individual, y el segundo los indicadores de la red entera, que para este caso, al ser la red entera constituída por un único catálogo, son exactamente idénticos. Se calculan los siguientes indicadores:\n",
    "- *Cantidad de datasets*: `datasets_cant`\n",
    "- *Cantidad de distribuciones*: `distribuciones_cant`\n",
    "- *Validez de los datasets*: `datasets_meta_ok_cant`, `datasets_meta_error_cant`, `datasets_meta_ok_pct`\n",
    "- *Actualidad del catálogo/datasets*: `catalogo_ultima_actualizacion_dias`, `datasets_actualizados_cant`, `datasets_no_actualizados_cant`, `datasets_actualizados_pct`\n",
    "- *Uso de campos optativos/recomendados*: `campos_recomendados_pct`, `campos_optativos_pct`\n",
    "- *Frecuencia de actualización de datasets*: `datasets_frecuencia_cant`\n",
    "- *Formatos de las distribuciones de los datasets*: `distribuciones_formatos_cant`\n",
    "\n",
    "Notar que los últimos dos son a su vez diccionarios, con las claves representando los formatos / frecuencias particulares y sus valores, la cantidad."
   ]
  },
  {
   "cell_type": "markdown",
   "metadata": {},
   "source": [
    "### Varios catálogos\n",
    "\n",
    "Si se pasa una lista de catálogos, se calculan varios indicadores a la vez, y los indicadores de la red entera contienen a la suma de los indicadores individuales."
   ]
  },
  {
   "cell_type": "code",
   "execution_count": 18,
   "metadata": {},
   "outputs": [
    {
     "data": {
      "text/plain": [
       "([{u'campos_optativos_pct': 12.54,\n   u'campos_recomendados_pct': 62.96,\n   u'catalogo_ultima_actualizacion_dias': 155.0,\n   u'datasets_actualizados_cant': 4,\n   u'datasets_actualizados_pct': 22.0,\n   u'datasets_cant': 18,\n   u'datasets_desactualizados_cant': 14,\n   u'datasets_frecuencia_cant': {u'R/P0.5M': 2,\n    u'R/P1D': 1,\n    u'R/P1M': 9,\n    u'R/P1Y': 1,\n    u'R/P3M': 2,\n    u'eventual': 3},\n   u'datasets_meta_error_cant': 0,\n   u'datasets_meta_ok_cant': 18,\n   u'datasets_meta_ok_pct': 100.0,\n   u'distribuciones_cant': 71,\n   u'distribuciones_formatos_cant': {u'CSV': 70, u'RDF': 1}},\n  {u'campos_optativos_pct': 14.6,\n   u'campos_recomendados_pct': 38.13,\n   u'catalogo_ultima_actualizacion_dias': 7.0,\n   u'datasets_actualizados_cant': 4,\n   u'datasets_actualizados_pct': 6.0,\n   u'datasets_cant': 68,\n   u'datasets_desactualizados_cant': 4,\n   u'datasets_frecuencia_cant': {u'R/P1M': 2,\n    u'R/P1Y': 1,\n    u'R/P2Y': 1,\n    u'R/P6M': 3,\n    u'eventual': 1},\n   u'datasets_meta_error_cant': 68,\n   u'datasets_meta_ok_cant': 0,\n   u'datasets_meta_ok_pct': 0.0,\n   u'distribuciones_cant': 226,\n   u'distribuciones_formatos_cant': {u'CSV': 156,\n    u'JSON': 37,\n    u'RDF': 1,\n    u'XLS': 32}}],\n {u'campos_optativos_pct': 14.12,\n  u'campos_recomendados_pct': 44.85,\n  u'catalogo_ultima_actualizacion_dias': 162.0,\n  u'catalogos_cant': 2,\n  u'datasets_actualizados_cant': 8,\n  u'datasets_actualizados_pct': 30.77,\n  u'datasets_cant': 86,\n  u'datasets_desactualizados_cant': 18,\n  u'datasets_frecuencia_cant': {u'R/P0.5M': 2,\n   u'R/P1D': 1,\n   u'R/P1M': 11,\n   u'R/P1Y': 2,\n   u'R/P2Y': 1,\n   u'R/P3M': 2,\n   u'R/P6M': 3,\n   u'eventual': 4},\n  u'datasets_meta_error_cant': 68,\n  u'datasets_meta_ok_cant': 18,\n  u'datasets_meta_ok_pct': 20.93,\n  u'distribuciones_cant': 297,\n  u'distribuciones_formatos_cant': {u'CSV': 226,\n   u'JSON': 37,\n   u'RDF': 2,\n   u'XLS': 32}})"
      ]
     },
     "execution_count": 17,
     "metadata": {},
     "output_type": "execute_result"
    }
   ],
   "source": [
    "import os\n",
    "from pydatajson import DataJson\n",
    "\n",
    "dj = DataJson()\n",
    "catalogs = [\n",
    "    os.path.join(\"samples\", \"catalogo-justicia.json\"),\n",
    "    \"http://datos.gob.ar/data.json\"\n",
    "]\n",
    "dj.generate_catalogs_indicators(catalogs)"
   ]
  },
  {
   "cell_type": "markdown",
   "metadata": {},
   "source": [
    "### Indicadores de federación\n",
    "\n",
    "El método opcionalmente acepta un segundo parámetro: el catálogo central de la red de nodos. De estar presente, se calculan indicadores sobre la cantidad de datasets federados en la red central para cada catálogo, es decir, la cantidad de datasets del catálogo particular presentes en el catálogo central. El diccionario resultado contiene los indicadores `datasets_federados_cant`, `datasets_no_federados_cant`, `datasets_federados_pct`."
   ]
  },
  {
   "cell_type": "code",
   "execution_count": 18,
   "metadata": {
    "collapsed": false
   },
   "outputs": [
    {
     "data": {
      "text/plain": [
       "([{u'campos_optativos_pct': 12.54,\n   u'campos_recomendados_pct': 62.96,\n   u'catalogo_ultima_actualizacion_dias': 155.0,\n   u'datasets_actualizados_cant': 4,\n   u'datasets_actualizados_pct': 22.0,\n   u'datasets_cant': 18,\n   u'datasets_desactualizados_cant': 14,\n   u'datasets_federados_cant': 18,\n   u'datasets_federados_pct': 100.0,\n   u'datasets_frecuencia_cant': {u'R/P0.5M': 2,\n    u'R/P1D': 1,\n    u'R/P1M': 9,\n    u'R/P1Y': 1,\n    u'R/P3M': 2,\n    u'eventual': 3},\n   u'datasets_meta_error_cant': 0,\n   u'datasets_meta_ok_cant': 18,\n   u'datasets_meta_ok_pct': 100.0,\n   u'datasets_no_federados_cant': 0,\n   u'distribuciones_cant': 71,\n   u'distribuciones_formatos_cant': {u'CSV': 70, u'RDF': 1}}],\n {u'campos_optativos_pct': 12.54,\n  u'campos_recomendados_pct': 62.96,\n  u'catalogo_ultima_actualizacion_dias': 155.0,\n  u'catalogos_cant': 1,\n  u'datasets_actualizados_cant': 4,\n  u'datasets_actualizados_pct': 22.22,\n  u'datasets_cant': 18,\n  u'datasets_desactualizados_cant': 14,\n  u'datasets_federados_cant': 18,\n  u'datasets_federados_pct': 100.0,\n  u'datasets_frecuencia_cant': {u'R/P0.5M': 2,\n   u'R/P1D': 1,\n   u'R/P1M': 9,\n   u'R/P1Y': 1,\n   u'R/P3M': 2,\n   u'eventual': 3},\n  u'datasets_meta_error_cant': 0,\n  u'datasets_meta_ok_cant': 18,\n  u'datasets_meta_ok_pct': 100.0,\n  u'datasets_no_federados_cant': 0,\n  u'distribuciones_cant': 71,\n  u'distribuciones_formatos_cant': {u'CSV': 70, u'RDF': 1}})"
      ]
     },
     "execution_count": 18,
     "metadata": {},
     "output_type": "execute_result"
    }
   ],
   "source": [
    "import os\n",
    "from pydatajson import DataJson\n",
    "\n",
    "dj = DataJson()\n",
    "catalogs = [\n",
    "    os.path.join(\"samples\", \"catalogo-justicia.json\"),\n",
    "]\n",
    "central_catalog = \"http://datos.gob.ar/data.json\"\n",
    "dj.generate_catalogs_indicators(catalogs, central_catalog)"
   ]
  }
 ],
 "metadata": {
  "kernelspec": {
   "display_name": "Python 2",
   "language": "python",
   "name": "python2"
  },
  "language_info": {
   "codemirror_mode": {
    "name": "ipython",
    "version": 2.0
   },
   "file_extension": ".py",
   "mimetype": "text/x-python",
   "name": "python",
   "nbconvert_exporter": "python",
   "pygments_lexer": "ipython2",
   "version": "2.7.6"
  }
 },
 "nbformat": 4,
 "nbformat_minor": 0
}